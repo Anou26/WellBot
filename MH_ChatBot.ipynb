{
  "nbformat": 4,
  "nbformat_minor": 0,
  "metadata": {
    "colab": {
      "provenance": [],
      "authorship_tag": "ABX9TyMi3WiiRiafNVMWYCXa5R7e",
      "include_colab_link": true
    },
    "kernelspec": {
      "name": "python3",
      "display_name": "Python 3"
    },
    "language_info": {
      "name": "python"
    }
  },
  "cells": [
    {
      "cell_type": "markdown",
      "metadata": {
        "id": "view-in-github",
        "colab_type": "text"
      },
      "source": [
        "<a href=\"https://colab.research.google.com/github/Anou26/WellBot/blob/main/MH_ChatBot.ipynb\" target=\"_parent\"><img src=\"https://colab.research.google.com/assets/colab-badge.svg\" alt=\"Open In Colab\"/></a>"
      ]
    },
    {
      "cell_type": "code",
      "source": [
        "!pip install nltk"
      ],
      "metadata": {
        "colab": {
          "base_uri": "https://localhost:8080/"
        },
        "id": "-ibvztxhvvQ5",
        "outputId": "99079b61-af70-48ef-e0c8-05cf68afa2f7"
      },
      "execution_count": 22,
      "outputs": [
        {
          "output_type": "stream",
          "name": "stdout",
          "text": [
            "Requirement already satisfied: nltk in /usr/local/lib/python3.10/dist-packages (3.8.1)\n",
            "Requirement already satisfied: click in /usr/local/lib/python3.10/dist-packages (from nltk) (8.1.7)\n",
            "Requirement already satisfied: joblib in /usr/local/lib/python3.10/dist-packages (from nltk) (1.4.0)\n",
            "Requirement already satisfied: regex>=2021.8.3 in /usr/local/lib/python3.10/dist-packages (from nltk) (2023.12.25)\n",
            "Requirement already satisfied: tqdm in /usr/local/lib/python3.10/dist-packages (from nltk) (4.66.2)\n"
          ]
        }
      ]
    },
    {
      "cell_type": "markdown",
      "source": [
        "**Data Pre-Processing**"
      ],
      "metadata": {
        "id": "UdShSOoFvXMb"
      }
    },
    {
      "cell_type": "code",
      "execution_count": 23,
      "metadata": {
        "id": "vzbUnhA_uzkZ"
      },
      "outputs": [],
      "source": [
        "#Import necessary libraries and modules\n",
        "import pandas as pd\n",
        "import numpy as np\n",
        "import matplotlib.pyplot as plt\n",
        "from wordcloud import WordCloud\n",
        "import nltk\n",
        "from nltk.corpus import stopwords\n",
        "from nltk.stem import WordNetLemmatizer\n",
        "from nltk.tokenize import word_tokenize"
      ]
    },
    {
      "cell_type": "code",
      "source": [
        "# Download necessary NLTK resources\n",
        "nltk.download('punkt')\n",
        "nltk.download('stopwords')\n",
        "nltk.download('wordnet')"
      ],
      "metadata": {
        "colab": {
          "base_uri": "https://localhost:8080/"
        },
        "id": "SyTXCvqSvmTw",
        "outputId": "592bc544-e3cc-4435-b567-179a2ce90213"
      },
      "execution_count": 24,
      "outputs": [
        {
          "output_type": "stream",
          "name": "stderr",
          "text": [
            "[nltk_data] Downloading package punkt to /root/nltk_data...\n",
            "[nltk_data]   Package punkt is already up-to-date!\n",
            "[nltk_data] Downloading package stopwords to /root/nltk_data...\n",
            "[nltk_data]   Package stopwords is already up-to-date!\n",
            "[nltk_data] Downloading package wordnet to /root/nltk_data...\n",
            "[nltk_data]   Package wordnet is already up-to-date!\n"
          ]
        },
        {
          "output_type": "execute_result",
          "data": {
            "text/plain": [
              "True"
            ]
          },
          "metadata": {},
          "execution_count": 24
        }
      ]
    },
    {
      "cell_type": "code",
      "source": [
        "# Load the CSV file to get a glimpse of its structure and content\n",
        "file_path = '/content/mental_health.csv'\n",
        "mental_health_data = pd.read_csv(file_path, encoding=\"ISO-8859-1\")\n",
        "# Display the first few rows of the dataset\n",
        "mental_health_data.head()"
      ],
      "metadata": {
        "colab": {
          "base_uri": "https://localhost:8080/",
          "height": 206
        },
        "id": "3zsr6ZjfwKHP",
        "outputId": "3b6ccf07-f947-4fac-fb1e-9d68ab76dded"
      },
      "execution_count": 25,
      "outputs": [
        {
          "output_type": "execute_result",
          "data": {
            "text/plain": [
              "                                                text  label\n",
              "0  dear american teens question dutch person hear...      0\n",
              "1  nothing look forward lifei dont many reasons k...      1\n",
              "2  music recommendations im looking expand playli...      0\n",
              "3  im done trying feel betterthe reason im still ...      1\n",
              "4  worried  year old girl subject domestic physic...      1"
            ],
            "text/html": [
              "\n",
              "  <div id=\"df-818874a5-5631-4096-8305-702707ccf388\" class=\"colab-df-container\">\n",
              "    <div>\n",
              "<style scoped>\n",
              "    .dataframe tbody tr th:only-of-type {\n",
              "        vertical-align: middle;\n",
              "    }\n",
              "\n",
              "    .dataframe tbody tr th {\n",
              "        vertical-align: top;\n",
              "    }\n",
              "\n",
              "    .dataframe thead th {\n",
              "        text-align: right;\n",
              "    }\n",
              "</style>\n",
              "<table border=\"1\" class=\"dataframe\">\n",
              "  <thead>\n",
              "    <tr style=\"text-align: right;\">\n",
              "      <th></th>\n",
              "      <th>text</th>\n",
              "      <th>label</th>\n",
              "    </tr>\n",
              "  </thead>\n",
              "  <tbody>\n",
              "    <tr>\n",
              "      <th>0</th>\n",
              "      <td>dear american teens question dutch person hear...</td>\n",
              "      <td>0</td>\n",
              "    </tr>\n",
              "    <tr>\n",
              "      <th>1</th>\n",
              "      <td>nothing look forward lifei dont many reasons k...</td>\n",
              "      <td>1</td>\n",
              "    </tr>\n",
              "    <tr>\n",
              "      <th>2</th>\n",
              "      <td>music recommendations im looking expand playli...</td>\n",
              "      <td>0</td>\n",
              "    </tr>\n",
              "    <tr>\n",
              "      <th>3</th>\n",
              "      <td>im done trying feel betterthe reason im still ...</td>\n",
              "      <td>1</td>\n",
              "    </tr>\n",
              "    <tr>\n",
              "      <th>4</th>\n",
              "      <td>worried  year old girl subject domestic physic...</td>\n",
              "      <td>1</td>\n",
              "    </tr>\n",
              "  </tbody>\n",
              "</table>\n",
              "</div>\n",
              "    <div class=\"colab-df-buttons\">\n",
              "\n",
              "  <div class=\"colab-df-container\">\n",
              "    <button class=\"colab-df-convert\" onclick=\"convertToInteractive('df-818874a5-5631-4096-8305-702707ccf388')\"\n",
              "            title=\"Convert this dataframe to an interactive table.\"\n",
              "            style=\"display:none;\">\n",
              "\n",
              "  <svg xmlns=\"http://www.w3.org/2000/svg\" height=\"24px\" viewBox=\"0 -960 960 960\">\n",
              "    <path d=\"M120-120v-720h720v720H120Zm60-500h600v-160H180v160Zm220 220h160v-160H400v160Zm0 220h160v-160H400v160ZM180-400h160v-160H180v160Zm440 0h160v-160H620v160ZM180-180h160v-160H180v160Zm440 0h160v-160H620v160Z\"/>\n",
              "  </svg>\n",
              "    </button>\n",
              "\n",
              "  <style>\n",
              "    .colab-df-container {\n",
              "      display:flex;\n",
              "      gap: 12px;\n",
              "    }\n",
              "\n",
              "    .colab-df-convert {\n",
              "      background-color: #E8F0FE;\n",
              "      border: none;\n",
              "      border-radius: 50%;\n",
              "      cursor: pointer;\n",
              "      display: none;\n",
              "      fill: #1967D2;\n",
              "      height: 32px;\n",
              "      padding: 0 0 0 0;\n",
              "      width: 32px;\n",
              "    }\n",
              "\n",
              "    .colab-df-convert:hover {\n",
              "      background-color: #E2EBFA;\n",
              "      box-shadow: 0px 1px 2px rgba(60, 64, 67, 0.3), 0px 1px 3px 1px rgba(60, 64, 67, 0.15);\n",
              "      fill: #174EA6;\n",
              "    }\n",
              "\n",
              "    .colab-df-buttons div {\n",
              "      margin-bottom: 4px;\n",
              "    }\n",
              "\n",
              "    [theme=dark] .colab-df-convert {\n",
              "      background-color: #3B4455;\n",
              "      fill: #D2E3FC;\n",
              "    }\n",
              "\n",
              "    [theme=dark] .colab-df-convert:hover {\n",
              "      background-color: #434B5C;\n",
              "      box-shadow: 0px 1px 3px 1px rgba(0, 0, 0, 0.15);\n",
              "      filter: drop-shadow(0px 1px 2px rgba(0, 0, 0, 0.3));\n",
              "      fill: #FFFFFF;\n",
              "    }\n",
              "  </style>\n",
              "\n",
              "    <script>\n",
              "      const buttonEl =\n",
              "        document.querySelector('#df-818874a5-5631-4096-8305-702707ccf388 button.colab-df-convert');\n",
              "      buttonEl.style.display =\n",
              "        google.colab.kernel.accessAllowed ? 'block' : 'none';\n",
              "\n",
              "      async function convertToInteractive(key) {\n",
              "        const element = document.querySelector('#df-818874a5-5631-4096-8305-702707ccf388');\n",
              "        const dataTable =\n",
              "          await google.colab.kernel.invokeFunction('convertToInteractive',\n",
              "                                                    [key], {});\n",
              "        if (!dataTable) return;\n",
              "\n",
              "        const docLinkHtml = 'Like what you see? Visit the ' +\n",
              "          '<a target=\"_blank\" href=https://colab.research.google.com/notebooks/data_table.ipynb>data table notebook</a>'\n",
              "          + ' to learn more about interactive tables.';\n",
              "        element.innerHTML = '';\n",
              "        dataTable['output_type'] = 'display_data';\n",
              "        await google.colab.output.renderOutput(dataTable, element);\n",
              "        const docLink = document.createElement('div');\n",
              "        docLink.innerHTML = docLinkHtml;\n",
              "        element.appendChild(docLink);\n",
              "      }\n",
              "    </script>\n",
              "  </div>\n",
              "\n",
              "\n",
              "<div id=\"df-05727550-82fb-40df-8e5e-6a4aa1ea9f9b\">\n",
              "  <button class=\"colab-df-quickchart\" onclick=\"quickchart('df-05727550-82fb-40df-8e5e-6a4aa1ea9f9b')\"\n",
              "            title=\"Suggest charts\"\n",
              "            style=\"display:none;\">\n",
              "\n",
              "<svg xmlns=\"http://www.w3.org/2000/svg\" height=\"24px\"viewBox=\"0 0 24 24\"\n",
              "     width=\"24px\">\n",
              "    <g>\n",
              "        <path d=\"M19 3H5c-1.1 0-2 .9-2 2v14c0 1.1.9 2 2 2h14c1.1 0 2-.9 2-2V5c0-1.1-.9-2-2-2zM9 17H7v-7h2v7zm4 0h-2V7h2v10zm4 0h-2v-4h2v4z\"/>\n",
              "    </g>\n",
              "</svg>\n",
              "  </button>\n",
              "\n",
              "<style>\n",
              "  .colab-df-quickchart {\n",
              "      --bg-color: #E8F0FE;\n",
              "      --fill-color: #1967D2;\n",
              "      --hover-bg-color: #E2EBFA;\n",
              "      --hover-fill-color: #174EA6;\n",
              "      --disabled-fill-color: #AAA;\n",
              "      --disabled-bg-color: #DDD;\n",
              "  }\n",
              "\n",
              "  [theme=dark] .colab-df-quickchart {\n",
              "      --bg-color: #3B4455;\n",
              "      --fill-color: #D2E3FC;\n",
              "      --hover-bg-color: #434B5C;\n",
              "      --hover-fill-color: #FFFFFF;\n",
              "      --disabled-bg-color: #3B4455;\n",
              "      --disabled-fill-color: #666;\n",
              "  }\n",
              "\n",
              "  .colab-df-quickchart {\n",
              "    background-color: var(--bg-color);\n",
              "    border: none;\n",
              "    border-radius: 50%;\n",
              "    cursor: pointer;\n",
              "    display: none;\n",
              "    fill: var(--fill-color);\n",
              "    height: 32px;\n",
              "    padding: 0;\n",
              "    width: 32px;\n",
              "  }\n",
              "\n",
              "  .colab-df-quickchart:hover {\n",
              "    background-color: var(--hover-bg-color);\n",
              "    box-shadow: 0 1px 2px rgba(60, 64, 67, 0.3), 0 1px 3px 1px rgba(60, 64, 67, 0.15);\n",
              "    fill: var(--button-hover-fill-color);\n",
              "  }\n",
              "\n",
              "  .colab-df-quickchart-complete:disabled,\n",
              "  .colab-df-quickchart-complete:disabled:hover {\n",
              "    background-color: var(--disabled-bg-color);\n",
              "    fill: var(--disabled-fill-color);\n",
              "    box-shadow: none;\n",
              "  }\n",
              "\n",
              "  .colab-df-spinner {\n",
              "    border: 2px solid var(--fill-color);\n",
              "    border-color: transparent;\n",
              "    border-bottom-color: var(--fill-color);\n",
              "    animation:\n",
              "      spin 1s steps(1) infinite;\n",
              "  }\n",
              "\n",
              "  @keyframes spin {\n",
              "    0% {\n",
              "      border-color: transparent;\n",
              "      border-bottom-color: var(--fill-color);\n",
              "      border-left-color: var(--fill-color);\n",
              "    }\n",
              "    20% {\n",
              "      border-color: transparent;\n",
              "      border-left-color: var(--fill-color);\n",
              "      border-top-color: var(--fill-color);\n",
              "    }\n",
              "    30% {\n",
              "      border-color: transparent;\n",
              "      border-left-color: var(--fill-color);\n",
              "      border-top-color: var(--fill-color);\n",
              "      border-right-color: var(--fill-color);\n",
              "    }\n",
              "    40% {\n",
              "      border-color: transparent;\n",
              "      border-right-color: var(--fill-color);\n",
              "      border-top-color: var(--fill-color);\n",
              "    }\n",
              "    60% {\n",
              "      border-color: transparent;\n",
              "      border-right-color: var(--fill-color);\n",
              "    }\n",
              "    80% {\n",
              "      border-color: transparent;\n",
              "      border-right-color: var(--fill-color);\n",
              "      border-bottom-color: var(--fill-color);\n",
              "    }\n",
              "    90% {\n",
              "      border-color: transparent;\n",
              "      border-bottom-color: var(--fill-color);\n",
              "    }\n",
              "  }\n",
              "</style>\n",
              "\n",
              "  <script>\n",
              "    async function quickchart(key) {\n",
              "      const quickchartButtonEl =\n",
              "        document.querySelector('#' + key + ' button');\n",
              "      quickchartButtonEl.disabled = true;  // To prevent multiple clicks.\n",
              "      quickchartButtonEl.classList.add('colab-df-spinner');\n",
              "      try {\n",
              "        const charts = await google.colab.kernel.invokeFunction(\n",
              "            'suggestCharts', [key], {});\n",
              "      } catch (error) {\n",
              "        console.error('Error during call to suggestCharts:', error);\n",
              "      }\n",
              "      quickchartButtonEl.classList.remove('colab-df-spinner');\n",
              "      quickchartButtonEl.classList.add('colab-df-quickchart-complete');\n",
              "    }\n",
              "    (() => {\n",
              "      let quickchartButtonEl =\n",
              "        document.querySelector('#df-05727550-82fb-40df-8e5e-6a4aa1ea9f9b button');\n",
              "      quickchartButtonEl.style.display =\n",
              "        google.colab.kernel.accessAllowed ? 'block' : 'none';\n",
              "    })();\n",
              "  </script>\n",
              "</div>\n",
              "\n",
              "    </div>\n",
              "  </div>\n"
            ],
            "application/vnd.google.colaboratory.intrinsic+json": {
              "type": "dataframe",
              "variable_name": "mental_health_data",
              "summary": "{\n  \"name\": \"mental_health_data\",\n  \"rows\": 27977,\n  \"fields\": [\n    {\n      \"column\": \"text\",\n      \"properties\": {\n        \"dtype\": \"string\",\n        \"num_unique_values\": 27972,\n        \"samples\": [\n          \"im ready gothanks previous person commented last post pushing edge mum work tomorrow thursday friday thats ill it creating set tomorrow week nothing ever goes way life ive ruined childhood trauma effects life result abandoned everybody ive ever loved even change heart still need go current situation thats it im going die soon\",\n          \"atoms ashim posting im anonymous molested  older sister cover secret played liar entire childhood put bad spot emotionally constantly getting trouble parents school bullied rediculed friends harrassed elementary school students teachers put medication rd grade everyday pulled classroom sit principal office would come home crying everyday mistreatment mom finally enough pulled public school transferred private christian school behind education next year retake rd grade students bullied started fight back aggressively also landed principals office th grade transferred back public school made friends bullies bad kids class want bullied anymore tough guy got girlfriend short lived ended writing notes wanted fuck bunch sexual stuff soon found grandma called principal school tried press charges minor gone puberty yet really understand ramifications saying grip parents tightened medication forced throat th grade teacher slapped across face class shut class still remember bead sweat rolling mustache red angry face slapped me made turn back hardened asshole teachers care school point wanted run away several times could never make friends felt like big fucking joke me fist fights recess involved somebody else typically started kids corned back fence friends said fuck friends need them th grade proceeded get girlfriend become sexually active th grade high school began relationship started take turn eventually ended longest friendship entire life devastating ended began get suicidal depression tried overdose medication class caught red handed taking entire bottle pills became violently ill blacked bathroom found carried nurses office school principal called ambulance contacted mom mom devastated pissed crying uncontrollably lied said accident switched meds antidepressants later stopped taking gag reflex overdose went  long term relationship breakups ended cutting arms burning lighter pulled class senior year high school arrested front whole school shooting front school paintball gun night before prank someone would clean charged  different things including terrorism absolutely drive become anything life think going live past  academically barely graduated high school convinced pull shit together go college failed college blew grant money food diamonds girlfriend relationship ended joined marine corps go die country iraq opf fallujah ex girlfriend came see california led wanted get back knew knew company getting deployed iraq fight real full metal jacket mental breakdown weeks deployed threatened kill bunch people landed hospital diagnosis ptsd bipolar major depression fraudulent enlistment charge given discharge honorable conditions plane ticket home tried go back school failed racked another bill year discharge girlfriend broke up friends considered failure everything let love life walk away soon keep depression control jumped relationship first girl would talk gas station convinced looks everything chick nice funny showed attention wanted cock cake care fucked head son already whose father jail decided would pull shit together roll model later started self medicating weed really cop felt great high time friends wifes friends supplying me temper really chilled smoked manic didnt filled uncontrollable anxietydepression rage often super asshole little man syndrome didnt smoke often thought redflag option stop internal pain instead saying loud would impulsively things hurt myself punched structure point shattered wrist several fingers felt better little bit marriage ended year later point interest forming new relationships anyone tired looking new connects weed moved around different states legal dispensaries soon realized weed helping actually making things worse control anymore desperate plea help sister gave place stay moving sister family found work started busting ass make things work could get place entire focus work smoking weed numb pain living often would isolate away everyone else could smoke weed cigarettes really acceptable lifestyle eventually led renting room house full strangers closer work work roommates knowing weed would go room steal weed play instruments work put huge panic major anxiety depression eventually leave situation move back sister brother law take well year started throwing offensive false accusations sexually since interested dating divorce nephews would repeat said friends friends parents soon everyone treated fucked way made things even worse instead giving getting defensive fucking talking shit decided pack shit leave found cheap place live way woods away everyone else keep myself working employer  years started feel little comfortable around coworkers opened little relate mentioned high school paintballing incident normal conversation conflicts employer soon started take place coworker told boss paintballing played sociopath wanted job pay concerned thought boss knew well enough believe later sit boss talk future goals told goal make better future plans start business real grown shit like one bit fact retaliated cutting hours bonus pay singled rest crew made work jobs less time complete pressure unbearable redflag plate everyday every hour constantly mind started feel ill overwhelming uncontrollable feelings panic attack quit job health insurance afford cost housing car payments insurance cellphone bill ended going doctor heart would beat chest throwing every morning years wanted know why turns heart enlarged may diabetes stage  hypertension might heart attack stroke cant relieve stress take care myself got way refused take medications instead still self medicating stop weed without losing mind emotionally stopped smoking weedcigs mt dew per doctors request save life anxiety debilitating obsess death cant hold conversation cant share eye contact feel extremely uncomfortable every social situation encounter cant bring back normal feel like normal wanting kill ending existence im running short money bank feel like work people fucking minion worker slave would rather die life completely closed feel though time running out well self control hide painful memories mom traveled  miles past slipped said going kill extremely worried depressed feels like lose child even tho ive said nothing recently actually moved woods far away everyone kill myself nobody would find me cant sleep anymore mind always thinking ways go every tree look at see hanging every gun looks see blood scattered wall body slumped over every tall building see body bouncing pavement every light pole see think truck wrapped around body half way hood windshield go jog try clear mind feel urge step front car semi head hurts cant help punch face burn propane torch relieve pain extremely difficult time analyzing events life absolutely hating people theyve done me hating unable forgive forget move on shitty things ive said done people control myself thought redflag might parents kept here feel hard even around family hour without irritated rude hate everything me starting understand everyone else hates too hurtful things go away cannot help desperately want become ash float away space dot planet insignificant every way mankind nothing offer feel ashamed illness feel like waste space oxygen pray god blow heart chest mom dad would live fact son willingly killed himself\",\n          \"wanna use omegle cus self esteems low ppl always compliment saw ppl saying got doxxed using omegle shit uhh meh oh well\"\n        ],\n        \"semantic_type\": \"\",\n        \"description\": \"\"\n      }\n    },\n    {\n      \"column\": \"label\",\n      \"properties\": {\n        \"dtype\": \"number\",\n        \"std\": 0,\n        \"min\": 0,\n        \"max\": 1,\n        \"num_unique_values\": 2,\n        \"samples\": [\n          1,\n          0\n        ],\n        \"semantic_type\": \"\",\n        \"description\": \"\"\n      }\n    }\n  ]\n}"
            }
          },
          "metadata": {},
          "execution_count": 25
        }
      ]
    },
    {
      "cell_type": "code",
      "source": [
        "msg=mental_health_data.text\n",
        "msg"
      ],
      "metadata": {
        "colab": {
          "base_uri": "https://localhost:8080/"
        },
        "id": "yIXe0qpbpp_O",
        "outputId": "dd9bd707-f9f4-473d-d96e-e270971f719f"
      },
      "execution_count": 45,
      "outputs": [
        {
          "output_type": "execute_result",
          "data": {
            "text/plain": [
              "0        dear american teens question dutch person hear...\n",
              "1        nothing look forward lifei dont many reasons k...\n",
              "2        music recommendations im looking expand playli...\n",
              "3        im done trying feel betterthe reason im still ...\n",
              "4        worried  year old girl subject domestic physic...\n",
              "                               ...                        \n",
              "27972    posting everyday people stop caring  religion ...\n",
              "27973    okay definetly need hear guys opinion ive pret...\n",
              "27974    cant get dog think ill kill myselfthe last thi...\n",
              "27975    whats point princess bridei really think like ...\n",
              "27976    got nudes person might might know snapchat do ...\n",
              "Name: text, Length: 27977, dtype: object"
            ]
          },
          "metadata": {},
          "execution_count": 45
        }
      ]
    },
    {
      "cell_type": "code",
      "source": [
        "#Removing Special Characters\n",
        "msg=msg.str.replace('[^a-zA-Z0-9]+',\" \")\n",
        "msg"
      ],
      "metadata": {
        "colab": {
          "base_uri": "https://localhost:8080/"
        },
        "id": "tgFUenTIpxRX",
        "outputId": "7b285982-e656-473a-b978-beaf95a2f68e"
      },
      "execution_count": 50,
      "outputs": [
        {
          "output_type": "execute_result",
          "data": {
            "text/plain": [
              "0        dear american teens question dutch person hear...\n",
              "1        nothing look forward lifei dont many reasons k...\n",
              "2        music recommendations im looking expand playli...\n",
              "3        im done trying feel betterthe reason im still ...\n",
              "4        worried  year old girl subject domestic physic...\n",
              "                               ...                        \n",
              "27972    posting everyday people stop caring  religion ...\n",
              "27973    okay definetly need hear guys opinion ive pret...\n",
              "27974    cant get dog think ill kill myselfthe last thi...\n",
              "27975    whats point princess bridei really think like ...\n",
              "27976    got nudes person might might know snapchat do ...\n",
              "Name: text, Length: 27977, dtype: object"
            ]
          },
          "metadata": {},
          "execution_count": 50
        }
      ]
    },
    {
      "cell_type": "code",
      "source": [
        "# Manually defined stop words\n",
        "manual_stop_words = set([\"a\", \"an\", \"the\", \"and\", \"or\", \"in\", \"of\", \"at\", \"by\", \"for\", \"with\", \"about\", \"on\", \"to\", \"as\", \"is\", \"are\", \"was\", \"were\", \"be\", \"been\", \"being\"])"
      ],
      "metadata": {
        "id": "88gNEM93x5L1"
      },
      "execution_count": 51,
      "outputs": []
    },
    {
      "cell_type": "code",
      "source": [
        "# Initialize the lemmatizer and stop words list\n",
        "lemmatizer = WordNetLemmatizer()\n",
        "stop_words = set(stopwords.words('english'))"
      ],
      "metadata": {
        "id": "XG8v5yZ9vqGh"
      },
      "execution_count": 52,
      "outputs": []
    },
    {
      "cell_type": "code",
      "source": [
        "def preprocess_text(text):\n",
        "    # Here we do, Tokenizing, Removing Stop words, Lowercasing, Lemmatizing\n",
        "    # Convert text to lowercase and split into words\n",
        "    tokens = text.lower().split()\n",
        "    # Remove stop words and lemmatize\n",
        "    lemmatized = [lemmatizer.lemmatize(word.lower()) for word in tokens if word.isalnum() and word.lower() not in [stop_words, manual_stop_words]]\n",
        "    return ' '.join(lemmatized)"
      ],
      "metadata": {
        "id": "WGuc0ajTwAMa"
      },
      "execution_count": 53,
      "outputs": []
    },
    {
      "cell_type": "code",
      "source": [
        "from nltk.stem import PorterStemmer\n",
        "stemmer=PorterStemmer()\n",
        "msg=msg.apply(lambda line:[stemmer.stem(token.lower()) for token in word_tokenize(line)]).apply(lambda token:\" \".join(token))"
      ],
      "metadata": {
        "id": "awSdwyMXql38"
      },
      "execution_count": 54,
      "outputs": []
    },
    {
      "cell_type": "code",
      "source": [
        "msg=msg.apply(lambda line:[token for token in word_tokenize(line) if len(token)>2]).apply(lambda y:\" \".join(y))"
      ],
      "metadata": {
        "id": "X7v5Nktfrgrd"
      },
      "execution_count": 55,
      "outputs": []
    },
    {
      "cell_type": "markdown",
      "source": [
        "**Feature Extraction**"
      ],
      "metadata": {
        "id": "7j_IkbEQf4x9"
      }
    },
    {
      "cell_type": "code",
      "source": [
        "from sklearn.feature_extraction.text import TfidfVectorizer\n",
        "\n",
        "# Applying TF-IDF to the preprocessed text\n",
        "tfidf_vectorizer = TfidfVectorizer(max_features=1000)\n",
        "processed_texts = msg.apply(preprocess_text)\n",
        "X = tfidf_vectorizer.fit_transform(processed_texts)"
      ],
      "metadata": {
        "id": "sYKXSMvjf7Er"
      },
      "execution_count": 57,
      "outputs": []
    },
    {
      "cell_type": "code",
      "source": [
        "from sklearn.model_selection import train_test_split\n",
        "from sklearn.linear_model import LogisticRegression\n",
        "from sklearn.metrics import classification_report\n",
        "from sklearn.svm import SVC\n",
        "\n",
        "# Assuming 'label' is the column in our dataset that contains mood classifications\n",
        "y = mental_health_data['label'].values\n",
        "y\n",
        "\n",
        "# Splitting the dataset into training and testing sets\n",
        "X_train, X_test, y_train, y_test = train_test_split(X, y, test_size=0.2, random_state=42)\n",
        "\n",
        "# from sklearn.naive_bayes import GaussianNB\n",
        "from sklearn.ensemble import RandomForestClassifier\n",
        "from sklearn.ensemble import AdaBoostClassifier\n",
        "from sklearn.metrics import classification_report\n",
        "sv=SVC()\n",
        "# nb=GaussianNB()\n",
        "rf=RandomForestClassifier()\n",
        "ab= AdaBoostClassifier()\n",
        "models=[sv,rf,ab]\n",
        "for model in models:\n",
        "  print(model)\n",
        "  model.fit(X_train,y_train)\n",
        "  y_pred=model.predict(X_test)\n",
        "  print(classification_report(y_test,y_pred))"
      ],
      "metadata": {
        "colab": {
          "base_uri": "https://localhost:8080/"
        },
        "id": "Qkgr3vHQgDmD",
        "outputId": "33992d39-883b-455c-a947-ae63b53d2d26"
      },
      "execution_count": 62,
      "outputs": [
        {
          "output_type": "stream",
          "name": "stdout",
          "text": [
            "SVC()\n",
            "              precision    recall  f1-score   support\n",
            "\n",
            "           0       0.90      0.93      0.92      2802\n",
            "           1       0.92      0.90      0.91      2794\n",
            "\n",
            "    accuracy                           0.91      5596\n",
            "   macro avg       0.91      0.91      0.91      5596\n",
            "weighted avg       0.91      0.91      0.91      5596\n",
            "\n",
            "RandomForestClassifier()\n",
            "              precision    recall  f1-score   support\n",
            "\n",
            "           0       0.90      0.88      0.89      2802\n",
            "           1       0.88      0.90      0.89      2794\n",
            "\n",
            "    accuracy                           0.89      5596\n",
            "   macro avg       0.89      0.89      0.89      5596\n",
            "weighted avg       0.89      0.89      0.89      5596\n",
            "\n",
            "AdaBoostClassifier()\n",
            "              precision    recall  f1-score   support\n",
            "\n",
            "           0       0.86      0.91      0.88      2802\n",
            "           1       0.90      0.85      0.87      2794\n",
            "\n",
            "    accuracy                           0.88      5596\n",
            "   macro avg       0.88      0.88      0.88      5596\n",
            "weighted avg       0.88      0.88      0.88      5596\n",
            "\n"
          ]
        }
      ]
    },
    {
      "cell_type": "code",
      "source": [
        "#Classification\n",
        "y_new=model.predict(tfidf_vectorizer.transform([\"i feel good\"]))\n",
        "if y_new==1:\n",
        "    print(\"positive\")\n",
        "if y_new==0:\n",
        "    print(\"negative\")"
      ],
      "metadata": {
        "colab": {
          "base_uri": "https://localhost:8080/"
        },
        "id": "5eNk6NNCuSo7",
        "outputId": "2ce6049e-3cb2-459e-88d2-146f587a5af2"
      },
      "execution_count": 73,
      "outputs": [
        {
          "output_type": "stream",
          "name": "stdout",
          "text": [
            "negative\n"
          ]
        }
      ]
    },
    {
      "cell_type": "code",
      "source": [
        "#ChatBot\n",
        "def chatbot_response(text):\n",
        "    processed_text = preprocess_text(text)\n",
        "    vectorized_text = tfidf_vectorizer.transform([processed_text])\n",
        "    prediction = model.predict(vectorized_text)[0]\n",
        "    prediction_proba = model.predict_proba(vectorized_text)[0]\n",
        "\n",
        "    # Provide responses based on the confidence level of the predictions\n",
        "    if prediction == 1 and max(prediction_proba) > 0.6:\n",
        "        return \"It sounds like you're having a tough day. What can you do to take your mind off things?\"\n",
        "    elif prediction == 0 and max(prediction_proba) > 0.6:\n",
        "        return \"That's great to hear! What's been the best part of your day?\"\n",
        "    else:\n",
        "        return \"I'm here to listen. Tell me more about how you're feeling.\"\n",
        "\n",
        "# Adjust the main loop to handle conversations\n",
        "if __name__ == \"__main__\":\n",
        "    main()"
      ],
      "metadata": {
        "colab": {
          "base_uri": "https://localhost:8080/"
        },
        "id": "KdhX8UTHhK0W",
        "outputId": "b5242b82-78bb-4304-d18b-7b7364b16665"
      },
      "execution_count": 77,
      "outputs": [
        {
          "output_type": "stream",
          "name": "stdout",
          "text": [
            "Hello, I'm here to help you with your mood. How are you feeling today?\n",
            "You: good\n",
            "Chatbot: I'm here to listen. Tell me more about how you're feeling.\n",
            "You: exit\n",
            "Chatbot: Goodbye! Take care.\n"
          ]
        }
      ]
    },
    {
      "cell_type": "markdown",
      "source": [
        "**Integrating the Q/A csv into the chatbot**"
      ],
      "metadata": {
        "id": "wCZA8fWfy3MR"
      }
    },
    {
      "cell_type": "code",
      "source": [
        "from nltk.corpus import stopwords\n",
        "from nltk.stem import WordNetLemmatizer\n",
        "from nltk.tokenize import word_tokenize\n",
        "import string\n",
        "\n",
        "# Ensure necessary NLTK resources are downloaded\n",
        "nltk.download('punkt')\n",
        "nltk.download('stopwords')\n",
        "nltk.download('wordnet')\n",
        "\n",
        "# Initialize NLP tools\n",
        "stop_words = set(stopwords.words('english'))\n",
        "lemmatizer = WordNetLemmatizer()\n",
        "\n",
        "def clean_text(text):\n",
        "    \"\"\"Normalize text by removing punctuation, tokenizing, removing stopwords, and lemmatizing.\"\"\"\n",
        "    # Lowercase and remove punctuation\n",
        "    text = text.lower().translate(str.maketrans('', '', string.punctuation))\n",
        "    # Tokenize\n",
        "    tokens = word_tokenize(text)\n",
        "    # Remove stopwords and lemmatize\n",
        "    cleaned_tokens = [lemmatizer.lemmatize(token) for token in tokens if token not in stop_words]\n",
        "    return cleaned_tokens\n",
        "\n",
        "def match_question(user_input):\n",
        "    \"\"\"Match user input to the closest question in the dataset and return the corresponding answer.\"\"\"\n",
        "    # Clean user input\n",
        "    cleaned_input = set(clean_text(user_input))\n",
        "\n",
        "    # Attempt to find the best match in the dataset\n",
        "    best_match = None\n",
        "    max_overlap = 0\n",
        "    for idx, row in mental_health_data.iterrows():\n",
        "        # Clean the question from the dataset\n",
        "        cleaned_question = set(clean_text(row['Questions']))\n",
        "        # Calculate overlap using intersection of sets\n",
        "        overlap = len(cleaned_input & cleaned_question)\n",
        "        if overlap > max_overlap:\n",
        "            max_overlap = overlap\n",
        "            best_match = row['Answers']\n",
        "\n",
        "    if best_match:\n",
        "        return best_match\n",
        "    else:\n",
        "        return \"I'm sorry, I don't have an answer to that question.\"\n",
        "\n",
        "# Test the function with a sample user input\n",
        "test_input = \"What should I do if someone has a mental problem?\"\n",
        "match_question(test_input)\n"
      ],
      "metadata": {
        "id": "vPAI7ZPJvltL"
      },
      "execution_count": null,
      "outputs": []
    }
  ]
}